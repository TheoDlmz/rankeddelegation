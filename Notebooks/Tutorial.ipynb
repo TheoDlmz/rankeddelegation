{
 "cells": [
  {
   "cell_type": "code",
   "execution_count": 5,
   "metadata": {
    "ExecuteTime": {
     "end_time": "2021-08-02T14:39:28.656627Z",
     "start_time": "2021-08-02T14:39:28.651641Z"
    }
   },
   "outputs": [],
   "source": [
    "import rankedDelegation as rd\n",
    "import numpy as np\n",
    "from IPython.utils import io\n",
    "import matplotlib.pyplot as plt\n",
    "np.random.seed(42)"
   ]
  },
  {
   "cell_type": "markdown",
   "metadata": {},
   "source": [
    "In this notebook, I will briefly explain how to use the rankedDelegation package. If you want to create a synthetic election, you can do it by using one of the following functions:"
   ]
  },
  {
   "cell_type": "code",
   "execution_count": 6,
   "metadata": {
    "ExecuteTime": {
     "end_time": "2021-08-02T14:39:29.190055Z",
     "start_time": "2021-08-02T14:39:28.966415Z"
    }
   },
   "outputs": [],
   "source": [
    "e = rd.election_popularity(n_voters=1000, p_casting=0.2, n_delegatees=4, popularity_factor=1)\n",
    "#e = rd.election_friendship(n_voters=1000, p_casting=0.2, n_friends=4, friends_factor=1)\n",
    "#e = rd.election_spatial(n_voters=1000, p_casting=0.2, n_delegatees=4, distrib_x=\"gauss\", distrib_y=\"gauss\")"
   ]
  },
  {
   "cell_type": "markdown",
   "metadata": {},
   "source": [
    "If we plot the distribution of the number of delegatees per voter, we see that the distribution is centered on $4$ delegatees per voters, which is consistent with the parameter with selected"
   ]
  },
  {
   "cell_type": "code",
   "execution_count": 8,
   "metadata": {
    "ExecuteTime": {
     "end_time": "2021-08-02T14:39:42.165629Z",
     "start_time": "2021-08-02T14:39:42.020415Z"
    }
   },
   "outputs": [
    {
     "data": {
      "image/png": "[encoded data removed]",
      "text/plain": [
       "<Figure size 432x288 with 1 Axes>"
      ]
     },
     "metadata": {
      "needs_background": "light"
     },
     "output_type": "display_data"
    }
   ],
   "source": [
    "edges_array = []\n",
    "for voter in e.list_voters:\n",
    "    if voter.vote is None:\n",
    "        edges_array.append(len(voter.delegatees))\n",
    "\n",
    "plt.hist(edges_array, bins=max(edges_array), width=0.5)\n",
    "plt.title(\"Distribution of the number of delegatees per voter\")\n",
    "plt.xlabel(\"number of delegatees\")\n",
    "plt.show()"
   ]
  },
  {
   "cell_type": "markdown",
   "metadata": {},
   "source": [
    "Finally, we can run an election by choosing which delegation function we are using"
   ]
  },
  {
   "cell_type": "code",
   "execution_count": 10,
   "metadata": {
    "ExecuteTime": {
     "end_time": "2021-08-02T14:42:32.783462Z",
     "start_time": "2021-08-02T14:42:32.546424Z"
    }
   },
   "outputs": [
    {
     "name": "stdout",
     "output_type": "stream",
     "text": [
      "Winner is 2\n",
      "Results :  [[474, 1], [511, 2]]\n",
      "Maximum rank is 9\n",
      "Maximum length is 4\n",
      "Average length is 1.51\n",
      "Maximum guru power is 27\n",
      "Guru entropy is 4.88\n",
      "Maximum sum of rank is 13\n",
      "Sum of rank is 1563 (only for confluent rules)\n",
      "Avg rank is 1.99 (only for confluent rules)\n",
      "Unpopularity is 390 (only for confluent rules)\n"
     ]
    }
   ],
   "source": [
    "def print_results(e):\n",
    "    print(\"Winner is %i\"%e.winner)\n",
    "    print(\"Results : \",e.results)\n",
    "    print(\"Maximum rank is %i\"%e.max_rank)\n",
    "    print(\"Maximum length is %i\"%e.max_length)\n",
    "    print(\"Average length is %.2f\"%e.mean_length)\n",
    "    print(\"Maximum guru power is %i\"%e.max_power)\n",
    "    print(\"Guru entropy is %.2f\"%e.power_entropy)\n",
    "    print(\"Maximum sum of rank is %i\"%e.max_sum)\n",
    "    print(\"Sum of rank is %i (only for confluent rules)\"%e.sum_rank)\n",
    "    print(\"Avg rank is %.2f (only for confluent rules)\"%e.avg_rank)\n",
    "    print(\"Unpopularity is %i (only for confluent rules)\"%e.unpopularity)\n",
    "    \n",
    "e.attribute_gurus(rd.rules.breadthFirst)\n",
    "#e.attribute_gurus(rd.rules.depthFirst)\n",
    "#e.attribute_gurus(rd.rules.diffusion)\n",
    "#e.attribute_gurus(rd.rules.lexiMax)\n",
    "#e.attribute_gurus(rd.rules.maxSum)\n",
    "#e.attribute_gurus(rd.rules.bordaArb)\n",
    "print_results(e)"
   ]
  }
 ],
 "metadata": {
  "kernelspec": {
   "display_name": "Python 3",
   "language": "python",
   "name": "python3"
  },
  "language_info": {
   "codemirror_mode": {
    "name": "ipython",
    "version": 3
   },
   "file_extension": ".py",
   "mimetype": "text/x-python",
   "name": "python",
   "nbconvert_exporter": "python",
   "pygments_lexer": "ipython3",
   "version": "3.7.3"
  }
 },
 "nbformat": 4,
 "nbformat_minor": 2
}
