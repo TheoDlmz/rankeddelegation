{
 "cells": [
  {
   "cell_type": "markdown",
   "metadata": {},
   "source": [
    "# Experiments - Real, Friendship"
   ]
  },
  {
   "cell_type": "markdown",
   "metadata": {},
   "source": [
    "In this notebook, we run experiments on a real network using the friendship-based method. In this method, users delegate in priority to people who have a lot of common friends (i.e. neighbours) with them.\n",
    "\n",
    "Our real networks includes *Facebook*."
   ]
  },
  {
   "cell_type": "code",
   "execution_count": 4,
   "metadata": {
    "ExecuteTime": {
     "end_time": "2021-09-03T16:14:18.027910Z",
     "start_time": "2021-09-03T16:14:18.021902Z"
    }
   },
   "outputs": [],
   "source": [
    "import rankedDelegation as rd\n",
    "import numpy as np\n",
    "from tqdm import tqdm\n",
    "import pandas as pd\n",
    "import matplotlib.pyplot as plt\n",
    "from IPython.utils import io\n",
    "np.random.seed(42)"
   ]
  },
  {
   "cell_type": "markdown",
   "metadata": {},
   "source": [
    "## Load the data"
   ]
  },
  {
   "cell_type": "markdown",
   "metadata": {},
   "source": [
    "The following cell show how to load a dataset."
   ]
  },
  {
   "cell_type": "code",
   "execution_count": 5,
   "metadata": {
    "ExecuteTime": {
     "end_time": "2021-09-03T16:14:18.502209Z",
     "start_time": "2021-09-03T16:14:18.495194Z"
    }
   },
   "outputs": [],
   "source": [
    "path = ()\n",
    "list_datasets = [{\"path\":\"\",\n",
    "                  \"name\":\"Facebook-reduced\"}]\n",
    "                 \n",
    "\n",
    "\n",
    "def load_data(index):\n",
    "    full_path = path + list_datasets[index][\"path\"]\n",
    "    list_edges = np.genfromtxt(full_path, delimiter=\" \",dtype=int)[:,:2]\n",
    "    nb_nodes= int(np.max(list_edges))+1\n",
    "    list_nodes = np.arange(nb_nodes)\n",
    "    count_out = np.zeros(nb_nodes)\n",
    "    count_in = np.zeros(nb_nodes)\n",
    "\n",
    "    for (a, b) in tqdm(list_edges):\n",
    "        if a != b:\n",
    "            count_out[a] += 1\n",
    "            count_in[b] += 1\n",
    "    \n",
    "    return {\"edges\":list_edges,\"out\": count_out, \"in\": count_in, \"nb_nodes\": nb_nodes}"
   ]
  },
  {
   "cell_type": "markdown",
   "metadata": {},
   "source": [
    "## Saving the results"
   ]
  },
  {
   "cell_type": "code",
   "execution_count": 6,
   "metadata": {
    "ExecuteTime": {
     "end_time": "2021-09-03T16:14:18.819140Z",
     "start_time": "2021-09-03T16:14:18.812156Z"
    }
   },
   "outputs": [],
   "source": [
    "def save_election(e, results, title=\"\"):\n",
    "    L = []\n",
    "    C = []\n",
    "    timestamp = int(time.time())\n",
    "    for v in tqdm(e.list_voters):\n",
    "        for i, d in enumerate(v.delegatees):\n",
    "            L.append((v.id, d.id, i+1))\n",
    "        if v.vote is not None:\n",
    "            C.append((v.id, 1))\n",
    "        else:\n",
    "            C.append((v.id, 0))\n",
    "        \n",
    "    np.savetxt(\"Save/edges_%s_%i.csv\"%(title,timestamp), L)\n",
    "    np.savetxt(\"Save/nodes_%s_%i.csv\"%(title,timestamp), C)\n",
    "    results.to_csv(\"Save/results_%s_%i.csv\"%(title, timestamp))"
   ]
  },
  {
   "cell_type": "markdown",
   "metadata": {},
   "source": [
    "## Running the experiments"
   ]
  },
  {
   "cell_type": "markdown",
   "metadata": {},
   "source": [
    "We will run the experiments on wide ruleset, testing all the rules described on the paper (BFD, DFD, MinSum, Diffusion, LexiMax and BordaArborescence). We will look at a wide set of metrics:\n",
    "\n",
    "* Maximum rank in a delegation path\n",
    "* Maximum length of a delegation path\n",
    "* Average length of the delegation paths\n",
    "* Maximum Weight/Representation of a casting voter\n",
    "* Power entropy\n",
    "* Maximum sum of rank of a delegation path\n",
    "* Sum of all rank in the arborescence (for confluent rules)\n",
    "* Average rank in the arborescence (for confluent rules)\n",
    "* Unpopularity of the arborescence (for confluent rules)"
   ]
  },
  {
   "cell_type": "code",
   "execution_count": 7,
   "metadata": {
    "ExecuteTime": {
     "end_time": "2021-09-03T16:14:19.575558Z",
     "start_time": "2021-09-03T16:14:19.570572Z"
    }
   },
   "outputs": [],
   "source": [
    "rules = [rd.rules.breadthFirst, rd.rules.minSum, rd.rules.depthFirst, \n",
    "             rd.rules.diffusion, rd.rules.lexiMax, rd.rules.bordaArb]\n",
    "rules_str = [\"BFD\", \"MinSum\", \"DFD\",\"Diffusion\", \"LexiMax\",\"BordaArb\"]\n",
    "metrics_str = [\"MaxRank\", \"MaxLength\", \"AvgLength\",\"MaxWeight\", \"MaxRep\",\n",
    "                \"PowerEntropy\", \"MaxSum\", \"SumRank\", \"AvgRank\", \"Unpopularity\"]\n",
    "n_rules = len(rules)"
   ]
  },
  {
   "cell_type": "code",
   "execution_count": 8,
   "metadata": {
    "ExecuteTime": {
     "end_time": "2021-09-03T16:14:20.055957Z",
     "start_time": "2021-09-03T16:14:20.046979Z"
    }
   },
   "outputs": [],
   "source": [
    "def run_election(index):\n",
    "    data= load_data(index)\n",
    "    tab_results = np.zeros((10, n_rules))\n",
    "    e = rd.election_friendship_real(data)\n",
    "\n",
    "    for i, rule in tqdm(enumerate(rules)):\n",
    "        e.attribute_gurus(rule)\n",
    "        tab_results[0, i] += e.max_rank\n",
    "        tab_results[1, i] += e.max_length\n",
    "        tab_results[2, i] += e.mean_length\n",
    "        tab_results[3, i] += e.max_power\n",
    "        tab_results[4, i] += e.max_representation\n",
    "        tab_results[5, i] += e.power_entropy\n",
    "        tab_results[6, i] += e.max_sum\n",
    "        tab_results[7, i] += e.sum_rank\n",
    "        tab_results[8, i] += e.avg_rank\n",
    "        tab_results[9, i] += e.unpopularity\n",
    "\n",
    "    df = pd.DataFrame(tab_results.T, index=rules_str, columns=metrics_str)\n",
    "    save_election(e, df, list_datasets[index][\"name\"])\n",
    "\n",
    "#run_election(0)"
   ]
  }
 ],
 "metadata": {
  "kernelspec": {
   "display_name": "Python 3",
   "language": "python",
   "name": "python3"
  },
  "language_info": {
   "codemirror_mode": {
    "name": "ipython",
    "version": 3
   },
   "file_extension": ".py",
   "mimetype": "text/x-python",
   "name": "python",
   "nbconvert_exporter": "python",
   "pygments_lexer": "ipython3",
   "version": "3.7.3"
  }
 },
 "nbformat": 4,
 "nbformat_minor": 2
}
