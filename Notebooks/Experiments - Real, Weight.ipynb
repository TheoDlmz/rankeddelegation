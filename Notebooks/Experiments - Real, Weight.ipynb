{
 "cells": [
  {
   "cell_type": "markdown",
   "metadata": {},
   "source": [
    "# Experiments - Real data, Weight method"
   ]
  },
  {
   "cell_type": "markdown",
   "metadata": {},
   "source": [
    "In this notebook, we run experiments on a real network using the weight-based method. In this method, users delegate in priority to people that they trust the most. The trust level corresponds to the weight of the edge.\n",
    "\n",
    "Our real networks includes *Bitcoin Alpha* and *Bitcoin OTC*."
   ]
  },
  {
   "cell_type": "code",
   "execution_count": 4,
   "metadata": {
    "ExecuteTime": {
     "end_time": "2021-09-03T16:22:01.936402Z",
     "start_time": "2021-09-03T16:22:01.926430Z"
    }
   },
   "outputs": [],
   "source": [
    "import rankedDelegation as rd\n",
    "import numpy as np\n",
    "from tqdm import tqdm\n",
    "import matplotlib.pyplot as plt\n",
    "from IPython.utils import io\n",
    "np.random.seed(42)"
   ]
  },
  {
   "cell_type": "markdown",
   "metadata": {},
   "source": [
    "## Load the data"
   ]
  },
  {
   "cell_type": "markdown",
   "metadata": {},
   "source": [
    "We will use the following function to save the election, and the election results"
   ]
  },
  {
   "cell_type": "code",
   "execution_count": 5,
   "metadata": {
    "ExecuteTime": {
     "end_time": "2021-09-03T16:22:02.413576Z",
     "start_time": "2021-09-03T16:22:02.406593Z"
    }
   },
   "outputs": [],
   "source": [
    "path = ()\n",
    "list_datasets = [{\"path\":(),\"name\":\"Bitcoin Alpha\"}, \n",
    "                {\"path\":(),\"name\":\"Bitcoin OTC\"}]\n",
    "\n",
    "def load_data(index):\n",
    "    full_path = path + list_datasets[index][\"path\"]\n",
    "    list_edges = np.genfromtxt(full_path, delimiter=\"\\t\",dtype=int)[:,:3]\n",
    "    nb_nodes= int(np.max(list_edges))+1\n",
    "    list_nodes = np.arange(nb_nodes)\n",
    "    count_out = np.zeros(nb_nodes)\n",
    "    count_in = np.zeros(nb_nodes)\n",
    "\n",
    "    for (a, b, _) in tqdm(list_edges):\n",
    "        if a != b:\n",
    "            count_out[a] += 1\n",
    "            count_in[b] += 1\n",
    "    \n",
    "    return {\"edges\":list_edges,\"out\": count_out, \"in\": count_in, \"nb_nodes\": nb_nodes}"
   ]
  },
  {
   "cell_type": "markdown",
   "metadata": {},
   "source": [
    "## Saving the results"
   ]
  },
  {
   "cell_type": "code",
   "execution_count": 6,
   "metadata": {
    "ExecuteTime": {
     "end_time": "2021-09-03T16:22:02.713721Z",
     "start_time": "2021-09-03T16:22:02.706742Z"
    }
   },
   "outputs": [],
   "source": [
    "def save_election(e, results, title=\"\"):\n",
    "    L = []\n",
    "    C = []\n",
    "    timestamp = int(time.time())\n",
    "    for v in tqdm(e.list_voters):\n",
    "        for i, d in enumerate(v.delegatees):\n",
    "            L.append((v.id, d.id, i+1))\n",
    "        if v.vote is not None:\n",
    "            C.append((v.id, 1))\n",
    "        else:\n",
    "            C.append((v.id, 0))\n",
    "        \n",
    "    np.savetxt(\"Save/edges_%s_%i.csv\"%(title,timestamp), L)\n",
    "    np.savetxt(\"Save/nodes_%s_%i.csv\"%(title,timestamp), C)\n",
    "    results.to_csv(\"Save/results_%s_%i.csv\"%(title, timestamp))"
   ]
  },
  {
   "cell_type": "markdown",
   "metadata": {},
   "source": [
    "## Run the experiments"
   ]
  },
  {
   "cell_type": "markdown",
   "metadata": {},
   "source": [
    "We will run the experiments on wide ruleset, testing all the rules described on the paper (BFD, DFD, MinSum, Diffusion, LexiMax and BordaArborescence). We will look at a wide set of metrics:\n",
    "\n",
    "* Maximum rank in a delegation path\n",
    "* Maximum length of a delegation path\n",
    "* Average length of the delegation paths\n",
    "* Maximum Weight/Representation of a casting voter\n",
    "* Power entropy\n",
    "* Maximum sum of rank of a delegation path\n",
    "* Sum of all rank in the arborescence (for confluent rules)\n",
    "* Average rank in the arborescence (for confluent rules)\n",
    "* Unpopularity of the arborescence (for confluent rules)"
   ]
  },
  {
   "cell_type": "code",
   "execution_count": 7,
   "metadata": {
    "ExecuteTime": {
     "end_time": "2021-09-03T16:22:03.415922Z",
     "start_time": "2021-09-03T16:22:03.407986Z"
    }
   },
   "outputs": [],
   "source": [
    "rules = [rd.rules.breadthFirst, rd.rules.minSum, rd.rules.depthFirst, \n",
    "             rd.rules.diffusion, rd.rules.lexiMax, rd.rules.bordaArb]\n",
    "rules_str = [\"BFD\", \"MinSum\", \"DFD\",\"Diffusion\", \"LexiMax\",\"BordaArb\"]\n",
    "metrics_str = [\"MaxRank\", \"MaxLength\", \"AvgLength\",\"MaxWeight\", \"MaxRep\",\n",
    "                \"PowerEntropy\", \"MaxSum\", \"SumRank\", \"AvgRank\", \"Unpopularity\"]\n",
    "n_rules = len(rules)"
   ]
  },
  {
   "cell_type": "code",
   "execution_count": 8,
   "metadata": {
    "ExecuteTime": {
     "end_time": "2021-09-03T16:22:03.853289Z",
     "start_time": "2021-09-03T16:22:03.840325Z"
    }
   },
   "outputs": [],
   "source": [
    "def run_election(index):\n",
    "    data= load_data(index)\n",
    "\n",
    "    tab_results = np.zeros((10, n_rules))\n",
    "    e = rd.election_weight_real(data)\n",
    "\n",
    "    for i, rule in tqdm(enumerate(rules)):\n",
    "        e.attribute_gurus(rule)\n",
    "        tab_results[0, i] += e.max_rank\n",
    "        tab_results[1, i] += e.max_length\n",
    "        tab_results[2, i] += e.mean_length\n",
    "        tab_results[3, i] += e.max_power\n",
    "        tab_results[4, i] += e.max_representation\n",
    "        tab_results[5, i] += e.power_entropy\n",
    "        tab_results[6, i] += e.max_sum\n",
    "        tab_results[7, i] += e.sum_rank\n",
    "        tab_results[8, i] += e.avg_rank\n",
    "        tab_results[9, i] += e.unpopularity\n",
    "\n",
    "    df = pd.DataFrame(tab_results.T, index=rules_str, columns=metrics_str)\n",
    "    save_election(e, df, list_datasets[index][\"name\"])\n",
    "\n",
    "#run_election(0)"
   ]
  },
  {
   "cell_type": "markdown",
   "metadata": {},
   "source": [
    "# Distribution des trust"
   ]
  },
  {
   "cell_type": "code",
   "execution_count": 9,
   "metadata": {
    "ExecuteTime": {
     "end_time": "2021-09-03T16:22:04.803918Z",
     "start_time": "2021-09-03T16:22:04.792949Z"
    }
   },
   "outputs": [],
   "source": [
    "def plot_trust_distribution(index):\n",
    "    data =load_data(index)\n",
    "    scores = data[\"edges\"][:,2]\n",
    "    tab_scores = np.zeros(21)\n",
    "    for s in scores:\n",
    "        tab_scores[10+s] += 1\n",
    "\n",
    "    plt.bar(np.arange(-10,11),tab_scores)\n",
    "    plt.yscale(\"log\")\n",
    "    plt.title(\"Distribution des valeurs de confiance\")\n",
    "    plt.ylabel(\"nb\")\n",
    "    plt.xlabel(\"confiance\")\n",
    "    plt.show()\n"
   ]
  }
 ],
 "metadata": {
  "kernelspec": {
   "display_name": "Python 3",
   "language": "python",
   "name": "python3"
  },
  "language_info": {
   "codemirror_mode": {
    "name": "ipython",
    "version": 3
   },
   "file_extension": ".py",
   "mimetype": "text/x-python",
   "name": "python",
   "nbconvert_exporter": "python",
   "pygments_lexer": "ipython3",
   "version": "3.7.3"
  }
 },
 "nbformat": 4,
 "nbformat_minor": 2
}
