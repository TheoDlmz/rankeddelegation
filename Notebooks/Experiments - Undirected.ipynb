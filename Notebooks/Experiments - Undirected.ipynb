{
 "cells": [
  {
   "cell_type": "code",
   "execution_count": 9,
   "metadata": {
    "ExecuteTime": {
     "end_time": "2021-06-19T19:13:09.885192Z",
     "start_time": "2021-06-19T19:13:08.924733Z"
    }
   },
   "outputs": [],
   "source": [
    "import rankedDelegation as rd\n",
    "import numpy as np\n",
    "from tqdm import tqdm\n",
    "import pandas as pd\n",
    "import matplotlib.pyplot as plt\n",
    "import pulp\n",
    "import time\n",
    "np.random.seed(42)"
   ]
  },
  {
   "cell_type": "code",
   "execution_count": 10,
   "metadata": {
    "ExecuteTime": {
     "end_time": "2021-06-19T19:13:10.428715Z",
     "start_time": "2021-06-19T19:13:10.043742Z"
    }
   },
   "outputs": [],
   "source": [
    "path = \"C:\\\\Users\\\\Theo Delemazure\\\\Documents\\\\ENS\\\\Stage Berlin\\\\data\\\\\"\n",
    "list_datasets = [{\"path\":\"facebook0\\\\out.facebook-wosn-links\",\"name\":\"facebook\"}]\n",
    "                 \n",
    "\"\"\"\n",
    "                \"deezer\\\\HR_edges.csv\", \n",
    "                 \"deezer\\\\HU_edges.csv\",\n",
    "                \"deezer\\\\RO_edges.csv\",\n",
    "                \"facebook\\\\artist_edges.csv\",\n",
    "                \"facebook\\\\athletes_edges.csv\",\n",
    "                \"facebook\\\\company_edges.csv\",\n",
    "                \"facebook\\\\government_edges.csv\",\n",
    "                \"facebook\\\\new_sites_edges.csv\",\n",
    "                \"facebook\\\\politician_edges.csv\",\n",
    "                \"facebook\\\\public_figure_edges.csv\",\n",
    "                \"facebook\\\\tvshow_edges.csv\",\n",
    "                \"facebook_large\\\\musae_facebook_edges.csv\",\n",
    "                \"github\\\\musae_git_edges.csv\",\n",
    "                \"twitch\\\\DE\\\\musae_DE_edges.csv\",\n",
    "                \"twitch\\\\ENGB\\\\musae_ENGB_edges.csv\",\n",
    "                \"twitch\\\\ES\\\\musae_ES_edges.csv\",\n",
    "                \"twitch\\\\FR\\\\musae_FR_edges.csv\",\n",
    "                \"twitch\\\\PTBR\\\\musae_PTBR_edges.csv\",\n",
    "                \"twitch\\\\RU\\\\musae_RU_edges.csv\",]\n",
    "                \n",
    "\"\"\"\n",
    "\n",
    "def load_data(index):\n",
    "    full_path = path + list_datasets[index][\"path\"]\n",
    "    list_edges = np.genfromtxt(full_path, delimiter=\" \",dtype=int)[:,:2]\n",
    "    nb_nodes= int(np.max(list_edges))+1\n",
    "    list_nodes = np.arange(nb_nodes)\n",
    "    count_out = np.zeros(nb_nodes)\n",
    "    count_in = np.zeros(nb_nodes)\n",
    "\n",
    "    for (a, b) in tqdm(list_edges):\n",
    "        if a != b:\n",
    "            count_out[a] += 1\n",
    "            count_in[b] += 1\n",
    "    \n",
    "    return {\"edges\":list_edges,\"out\": count_out, \"in\": count_in, \"nb_nodes\": nb_nodes}"
   ]
  },
  {
   "cell_type": "code",
   "execution_count": 11,
   "metadata": {
    "ExecuteTime": {
     "end_time": "2021-06-19T19:13:16.262127Z",
     "start_time": "2021-06-19T19:13:16.250161Z"
    }
   },
   "outputs": [],
   "source": [
    "def get_friends(list_edges):\n",
    "    friends = {}\n",
    "    for [a,b] in list_edges:\n",
    "        if a not in friends:\n",
    "            friends[a] = []\n",
    "        if b not in friends:\n",
    "            friends[b] = []\n",
    "        friends[a].append(b)\n",
    "        friends[b].append(a)\n",
    "    return friends\n"
   ]
  },
  {
   "cell_type": "code",
   "execution_count": 12,
   "metadata": {
    "ExecuteTime": {
     "end_time": "2021-06-19T19:13:16.533495Z",
     "start_time": "2021-06-19T19:13:16.512536Z"
    }
   },
   "outputs": [],
   "source": [
    "def distrib_friends(friends):\n",
    "    tab = []\n",
    "    for f in friends:\n",
    "        tab.append(len(friends[f]))\n",
    "    plt.figure(figsize=(15,5))\n",
    "    plt.hist(tab, bins=int(np.max(tab)))\n",
    "    plt.yscale(\"log\")\n",
    "    plt.xscale(\"log\")\n",
    "    plt.xlabel(\"degree\")\n",
    "    plt.ylabel(\"number of nodes\")\n",
    "    plt.plot()\n",
    "    plt.title(\"Distribution of degrees\")\n",
    "    plt.show()\n",
    "    "
   ]
  },
  {
   "cell_type": "code",
   "execution_count": 13,
   "metadata": {
    "ExecuteTime": {
     "end_time": "2021-06-19T19:13:16.967653Z",
     "start_time": "2021-06-19T19:13:16.959675Z"
    }
   },
   "outputs": [],
   "source": [
    "def list_common_friends(a, friends):\n",
    "    friends_a  = friends[a]\n",
    "    list_common = []\n",
    "    for x in friends_a:\n",
    "        c = 1\n",
    "        friends_x = friends[x]\n",
    "        for b in friends_x:\n",
    "            if b in friends_a:\n",
    "                c += 1\n",
    "        list_common.append(c)\n",
    "    return np.array(list_common, dtype=float)"
   ]
  },
  {
   "cell_type": "code",
   "execution_count": 14,
   "metadata": {
    "ExecuteTime": {
     "end_time": "2021-06-19T19:13:19.004952Z",
     "start_time": "2021-06-19T19:13:18.971122Z"
    },
    "scrolled": true
   },
   "outputs": [],
   "source": [
    "def create_election(data, p=0.8):\n",
    "    \n",
    "    list_edges = data[\"edges\"]\n",
    "    n = data[\"nb_nodes\"]\n",
    "    e = rd.Election()\n",
    "    \n",
    "    outedges_dict = {}\n",
    "    \n",
    "    friends = get_friends(list_edges)\n",
    "    \n",
    "    \n",
    "    # We add the voter and pick the casting voters\n",
    "    for i in tqdm(range(n)):\n",
    "        x = np.random.choice([0,1,2],p=[p,(1-p)/2,(1-p)/2])\n",
    "        if x == 0:\n",
    "            v = rd.Voter()\n",
    "        else:\n",
    "            v = rd.Voter(vote=x)\n",
    "        e.add_voter(v)\n",
    "\n",
    "    L = e.list_voters\n",
    "    delegatees_list = [[] for i in range(n)]\n",
    "    n_edges = 0\n",
    "    \n",
    "    for r_1 in tqdm(range(n)):\n",
    "        \n",
    "        if L[r_1].vote is not None or r_1 not in friends:\n",
    "            continue\n",
    "            \n",
    "        delegatees = friends[r_1]\n",
    "        proba = list_common_friends(r_1, friends)\n",
    "        proba /= np.sum(proba)\n",
    "        ordering = np.random.choice(delegatees, p=proba, replace=False, size=len(proba))\n",
    "        for ind in ordering:\n",
    "            delegatees_list[r_1].append(L[ind])\n",
    "        \n",
    "\n",
    "    for voter in L:\n",
    "        voter.delegate(delegatees_list[voter.id])\n",
    "    \n",
    "    return e \n"
   ]
  },
  {
   "cell_type": "code",
   "execution_count": 15,
   "metadata": {
    "ExecuteTime": {
     "end_time": "2021-06-19T19:13:19.808065Z",
     "start_time": "2021-06-19T19:13:19.795778Z"
    }
   },
   "outputs": [],
   "source": [
    "def save_election(e, results, title=\"\"):\n",
    "    L = []\n",
    "    C = []\n",
    "    timestamp = int(time.time())\n",
    "    for v in tqdm(e.list_voters):\n",
    "        for i, d in enumerate(v.delegatees):\n",
    "            L.append((v.id, d.id, i+1))\n",
    "        if v.vote is not None:\n",
    "            C.append((v.id, 1))\n",
    "        else:\n",
    "            C.append((v.id, 0))\n",
    "        \n",
    "    np.savetxt(\"Save/edges_%s_%i.csv\"%(title,timestamp), L)\n",
    "    np.savetxt(\"Save/nodes_%s_%i.csv\"%(title,timestamp), C)\n",
    "    results.to_csv(\"Save/results_%s_%i.csv\"%(title, timestamp))"
   ]
  },
  {
   "cell_type": "code",
   "execution_count": 16,
   "metadata": {
    "ExecuteTime": {
     "end_time": "2021-06-20T14:58:57.261388Z",
     "start_time": "2021-06-19T19:13:28.450694Z"
    }
   },
   "outputs": [
    {
     "name": "stderr",
     "output_type": "stream",
     "text": [
      "100%|██████████| 817035/817035 [00:02<00:00, 363436.37it/s]\n"
     ]
    },
    {
     "name": "stdout",
     "output_type": "stream",
     "text": [
      "15795\n"
     ]
    },
    {
     "name": "stderr",
     "output_type": "stream",
     "text": [
      "100%|██████████| 63732/63732 [00:01<00:00, 37095.55it/s]\n",
      "100%|██████████| 63732/63732 [03:44<00:00, 284.16it/s]  \n",
      "6it [19:41:22, 11813.73s/it]\n",
      "100%|██████████| 63732/63732 [00:00<00:00, 105616.26it/s]\n"
     ]
    }
   ],
   "source": [
    "def run_election(index):\n",
    "    data= load_data(index)\n",
    "\n",
    "    rules = [rd.rules.naive_BFD, rd.rules.minsum, rd.rules.naive_DFD, \n",
    "             rd.rules.diffusion, rd.rules.lexrank, rd.rules.minSumRank]\n",
    "\n",
    "    rules_str = [\"BFD\", \"MinSumPath\", \"DFD\",\"Diffusion\", \"LexRank\",\"MinArb\"]\n",
    "    metrics_str = [\"Max Rank\", \"Max Length\", \"Avg Length\",\"Max Power\", \"Max representation\",\n",
    "                \"Power entropy\", \"Max Sum\", \"Sum of Rank\", \"Avg Rank\", \"Unpopularity\"]\n",
    "\n",
    "    seed = np.random.randint(100000)\n",
    "    print(seed)\n",
    "    np.random.seed(seed)\n",
    "    n_rules = len(rules)\n",
    "    tab_results = np.zeros((10, n_rules))\n",
    "    e = create_election(data)\n",
    "\n",
    "    for i, rule in tqdm(enumerate(rules)):\n",
    "        e.attribute_gurus(rule)\n",
    "        tab_results[0, i] += e.max_rank\n",
    "        tab_results[1, i] += e.max_length\n",
    "        tab_results[2, i] += e.mean_length\n",
    "        tab_results[3, i] += e.max_power\n",
    "        tab_results[4, i] += e.max_representation\n",
    "        tab_results[5, i] += e.power_entropy\n",
    "        tab_results[6, i] += e.max_sum\n",
    "        tab_results[7, i] += e.sum_rank\n",
    "        tab_results[8, i] += e.avg_rank\n",
    "        tab_results[9, i] += e.unpopularity\n",
    "\n",
    "    df = pd.DataFrame(tab_results.T, index=rules_str, columns=metrics_str)\n",
    "    save_election(e, df, list_datasets[index][\"name\"])\n",
    "\n",
    "run_election(0)"
   ]
  },
  {
   "cell_type": "code",
   "execution_count": null,
   "metadata": {},
   "outputs": [],
   "source": []
  }
 ],
 "metadata": {
  "kernelspec": {
   "display_name": "Python 3",
   "language": "python",
   "name": "python3"
  },
  "language_info": {
   "codemirror_mode": {
    "name": "ipython",
    "version": 3
   },
   "file_extension": ".py",
   "mimetype": "text/x-python",
   "name": "python",
   "nbconvert_exporter": "python",
   "pygments_lexer": "ipython3",
   "version": "3.7.3"
  }
 },
 "nbformat": 4,
 "nbformat_minor": 2
}
