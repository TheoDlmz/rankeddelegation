{
 "cells": [
  {
   "cell_type": "code",
   "execution_count": 1,
   "metadata": {
    "ExecuteTime": {
     "end_time": "2021-06-17T11:50:13.989272Z",
     "start_time": "2021-06-17T11:50:11.759391Z"
    }
   },
   "outputs": [],
   "source": [
    "import rankedDelegation as rd\n",
    "import numpy as np\n",
    "from tqdm import tqdm\n",
    "import pandas as pd\n",
    "import matplotlib.pyplot as plt\n",
    "import pulp\n",
    "import time\n",
    "from IPython.utils import io\n",
    "np.random.seed(42)"
   ]
  },
  {
   "cell_type": "markdown",
   "metadata": {},
   "source": [
    "# Load the data"
   ]
  },
  {
   "cell_type": "code",
   "execution_count": 24,
   "metadata": {
    "ExecuteTime": {
     "end_time": "2021-06-20T20:09:54.820415Z",
     "start_time": "2021-06-20T20:09:54.649725Z"
    }
   },
   "outputs": [],
   "source": [
    "path = \"C:\\\\Users\\\\Theo Delemazure\\\\Documents\\\\ENS\\\\Stage Berlin\\\\data\\\\\"\n",
    "list_datasets = [{\"path\":\"twitter\\\\soc-twitter-follows.mtx\",\"delimiter\":\" \",\"name\":\"Twitter\"}, \n",
    "                 {\"path\":\"twitter\\\\higgs-social_network.edgelist\",\"delimiter\":\" \",\"name\":\"Higgs\"}, \n",
    "                {\"path\":\"slashdot\\\\Slashdot0902.txt\",\"delimiter\":\"\\t\",\"name\":\"Slashdot\"}, \n",
    "                {\"path\":\"twitter\\\\out.munmun_twitter_social\",\"delimiter\":\" \",\"name\":\"Twittercycle\"}]\n",
    "\n",
    "def load_data(index):\n",
    "    full_path = path + list_datasets[index][\"path\"]\n",
    "    list_edges = np.genfromtxt(full_path, delimiter=list_datasets[index][\"delimiter\"], dtype=int)\n",
    "    nb_nodes= int(np.max(list_edges))+1\n",
    "    list_nodes = np.arange(nb_nodes)\n",
    "    list_edges_temp = []\n",
    "    count_out = np.zeros(nb_nodes)\n",
    "    count_in = np.zeros(nb_nodes)\n",
    "\n",
    "    for (a, b) in tqdm(list_edges):\n",
    "        if a != b:\n",
    "            count_out[a] += 1\n",
    "            count_in[b] += 1\n",
    "            list_edges_temp.append((a,b))\n",
    "\n",
    "    list_edges = list_edges_temp\n",
    "    \n",
    "    return {\"edges\":list_edges, \"out\": count_out, \"in\": count_in, \"nb_nodes\": nb_nodes}"
   ]
  },
  {
   "cell_type": "code",
   "execution_count": 18,
   "metadata": {
    "ExecuteTime": {
     "end_time": "2021-06-20T17:18:10.669713Z",
     "start_time": "2021-06-20T17:18:10.633158Z"
    }
   },
   "outputs": [],
   "source": [
    "def plot_degrees_distrib(tab, title=\"Distribution of degrees\"):\n",
    "    plt.figure(figsize=(15,5))\n",
    "    plt.hist(count_out, bins=int(np.max(tab)))\n",
    "    plt.yscale(\"log\")\n",
    "    plt.xscale(\"log\")\n",
    "    plt.ylabel(\"count\")\n",
    "    plt.xlabel(\"degree\")\n",
    "    plt.title(title)\n",
    "    plt.show()"
   ]
  },
  {
   "cell_type": "code",
   "execution_count": 19,
   "metadata": {
    "ExecuteTime": {
     "end_time": "2021-06-20T17:18:10.896778Z",
     "start_time": "2021-06-20T17:18:10.802617Z"
    }
   },
   "outputs": [],
   "source": [
    "def create_election(data, p=0.8):\n",
    "    n = data[\"nb_nodes\"]\n",
    "    list_edges = data[\"edges\"]\n",
    "    popularity = data[\"in\"]\n",
    "    \n",
    "    e = rd.Election()\n",
    "    outedges_dict = {}\n",
    "    for (a, b) in tqdm(list_edges):\n",
    "        if a not in outedges_dict:\n",
    "            outedges_dict[a] = []\n",
    "        outedges_dict[a].append(b)\n",
    "    \n",
    "    # Add casting voters\n",
    "    for i in tqdm(range(n)):\n",
    "        x = np.random.choice([0,1,2],p=[p,(1-p)/2,(1-p)/2])\n",
    "        if x == 0:\n",
    "            v = rd.Voter()\n",
    "        else:\n",
    "            v = rd.Voter(vote=x)\n",
    "        e.add_voter(v)\n",
    "\n",
    "    # Add edges\n",
    "    L = e.list_voters\n",
    "    delegatees_list = [[] for i in range(n)]\n",
    "    n_edges = 0\n",
    "    \n",
    "    for r_1 in tqdm(range(n)):\n",
    "        if L[r_1].vote is not None or r_1 not in outedges_dict:\n",
    "            continue\n",
    "        delegatees = outedges_dict[r_1]\n",
    "        proba = popularity[delegatees]\n",
    "        proba /= proba.sum()\n",
    "        ordering = np.random.choice(delegatees, p=proba, replace=False, size=len(proba))\n",
    "        for ind in ordering:\n",
    "            delegatees_list[r_1].append(L[ind])\n",
    "            \n",
    "    for voter in L:\n",
    "        voter.delegate(delegatees_list[voter.id])\n",
    "    \n",
    "    return e "
   ]
  },
  {
   "cell_type": "code",
   "execution_count": 20,
   "metadata": {
    "ExecuteTime": {
     "end_time": "2021-06-20T17:18:11.030701Z",
     "start_time": "2021-06-20T17:18:10.966523Z"
    }
   },
   "outputs": [],
   "source": [
    "def save_election(e, results, title=\"\"):\n",
    "    L = []\n",
    "    C = []\n",
    "    timestamp = int(time.time())\n",
    "    for v in tqdm(e.list_voters):\n",
    "        for i, d in enumerate(v.delegatees):\n",
    "            L.append((v.id, d.id, i+1))\n",
    "        if v.vote is not None:\n",
    "            C.append((v.id, 1))\n",
    "        else:\n",
    "            C.append((v.id, 0))\n",
    "        \n",
    "    np.savetxt(\"Save/edges_%s_%i.csv\"%(title,timestamp), L)\n",
    "    np.savetxt(\"Save/nodes_%s_%i.csv\"%(title,timestamp), C)\n",
    "    results.to_csv(\"Save/results_%s_%i.csv\"%(title, timestamp))"
   ]
  },
  {
   "cell_type": "code",
   "execution_count": 21,
   "metadata": {
    "ExecuteTime": {
     "end_time": "2021-06-20T17:18:11.586542Z",
     "start_time": "2021-06-20T17:18:11.544522Z"
    }
   },
   "outputs": [],
   "source": [
    "def print_results(e):\n",
    "    print(\"Winner is %i\"%e.winner)\n",
    "    print(\"Results : \",e.results)\n",
    "    c_gurus = 0\n",
    "    for v in e.list_voters:\n",
    "        if v.vote is not None:\n",
    "            c_gurus += 1\n",
    "    s = np.log(c_gurus)\n",
    "    \n",
    "    print(\"Maximum rank is %i\"%e.max_rank)\n",
    "    print(\"Maximum length is %i\"%e.max_length)\n",
    "    print(\"Average length is %.2f\"%e.mean_length)\n",
    "    print(\"Maximum guru power is %i\"%e.max_power)\n",
    "    print(\"Entropy guru power is %.2f (best : %.2f)\"%(e.power_entropy, s))\n",
    "    print(\"Maximum sum of rank is %i\"%e.max_sum)\n",
    "    print(\"Sum of rank is %i (only for confluent rules)\"%e.sum_rank)\n",
    "    print(\"Avg rank is %.2f (only for confluent rules)\"%e.avg_rank)\n",
    "    plt.figure(figsize=(15,5))\n",
    "    plt.hist(e.list_powers,bins=1000)\n",
    "    plt.xlim(1,10000)\n",
    "    plt.xscale(\"log\")\n",
    "    plt.yscale(\"log\")\n",
    "    plt.title(\"Guru distribution of power\")\n",
    "    plt.xlabel(\"Power\")\n",
    "    plt.ylabel(\"Number of nodes\")\n",
    "    plt.show()\n",
    "    print(\"Unpopularity is %i (only for confluent rules)\"%e.unpopularity)"
   ]
  },
  {
   "cell_type": "code",
   "execution_count": 22,
   "metadata": {
    "ExecuteTime": {
     "end_time": "2021-06-20T17:18:12.186490Z",
     "start_time": "2021-06-20T17:18:12.149018Z"
    }
   },
   "outputs": [],
   "source": [
    "def distrib_voters(e):\n",
    "    tab = np.zeros(4)\n",
    "    for v in e.list_voters:\n",
    "        if v.vote is not None:\n",
    "            tab[0] += 1\n",
    "        elif v.guru is not None:\n",
    "            tab[1] += 1\n",
    "        elif len(v.delegatees) > 0:\n",
    "            tab[2] += 1\n",
    "        else:\n",
    "            tab[3] += 1\n",
    "    tab /= np.sum(tab)\n",
    "    return tab\n",
    "\n",
    "def distrib_voters_avg(data, n_trys=10):\n",
    "    tab = np.zeros(4)\n",
    "    for _ in tqdm(range(n_trys)):\n",
    "        with io.capture_output() as captured:\n",
    "            e = create_election(data)\n",
    "            e.attribute_gurus(rd.rules.naive_DFD)\n",
    "        tab += distrib_voters(e)\n",
    "    tab /= n_trys\n",
    "    return tab"
   ]
  },
  {
   "cell_type": "markdown",
   "metadata": {},
   "source": [
    "# Try all rules on one election (with unpopularity)"
   ]
  },
  {
   "cell_type": "code",
   "execution_count": 83,
   "metadata": {
    "ExecuteTime": {
     "end_time": "2021-06-11T17:02:56.374900Z",
     "start_time": "2021-06-11T17:02:27.588149Z"
    },
    "scrolled": false
   },
   "outputs": [
    {
     "name": "stdout",
     "output_type": "stream",
     "text": [
      "Winner is 1\n",
      "Results :  [[128387, 1], [125742, 2]]\n",
      "Maximum rank is 33\n",
      "Maximum length is 4\n",
      "Average length is 1.73\n",
      "Maximum guru power is 2549\n",
      "Entropy guru power is 8.68 (best : 11.30)\n",
      "Maximum sum of rank is 35\n",
      "Sum of rank is 200765 (only for confluent rules)\n",
      "Avg rank is 1.16 (only for confluent rules)\n"
     ]
    },
    {
     "data": {
      "image/png": "[encoded data removed]",
      "text/plain": [
       "<Figure size 1080x360 with 1 Axes>"
      ]
     },
     "metadata": {
      "needs_background": "light"
     },
     "output_type": "display_data"
    }
   ],
   "source": [
    "e.attribute_gurus(rd.rules.naive_BFD)\n",
    "print_results(e)"
   ]
  },
  {
   "cell_type": "code",
   "execution_count": 62,
   "metadata": {
    "ExecuteTime": {
     "end_time": "2021-06-11T13:48:55.956857Z",
     "start_time": "2021-06-11T13:16:18.718205Z"
    }
   },
   "outputs": [
    {
     "name": "stdout",
     "output_type": "stream",
     "text": [
      "Winner is 2\n",
      "Results :  [[27375, 1], [46207, 2]]\n",
      "Maximum rank is 7\n",
      "Maximum length is 35\n",
      "Average length is 7.22\n",
      "Maximum guru power is 16285\n",
      "Entropy guru power is 6.13 (best : 9.70)\n",
      "Maximum sum of rank is 37\n",
      "Sum of rank is 57975 (only for confluent rules)\n",
      "Avg rank is 1.01 (only for confluent rules)\n"
     ]
    },
    {
     "data": {
      "image/png": "[encoded data removed]",
      "text/plain": [
       "<Figure size 1080x360 with 1 Axes>"
      ]
     },
     "metadata": {
      "needs_background": "light"
     },
     "output_type": "display_data"
    },
    {
     "name": "stdout",
     "output_type": "stream",
     "text": [
      "Unpopularity is -60 (only for confluent rules)\n"
     ]
    }
   ],
   "source": [
    "e.attribute_gurus(rd.rules.naive_DFD)\n",
    "print_results(e)"
   ]
  },
  {
   "cell_type": "code",
   "execution_count": 63,
   "metadata": {
    "ExecuteTime": {
     "end_time": "2021-06-11T14:02:50.585786Z",
     "start_time": "2021-06-11T13:48:55.965507Z"
    }
   },
   "outputs": [
    {
     "name": "stdout",
     "output_type": "stream",
     "text": [
      "Winner is 1\n",
      "Results :  [[37348, 1], [36234, 2]]\n",
      "Maximum rank is 5\n",
      "Maximum length is 7\n",
      "Average length is 2.14\n",
      "Maximum guru power is 2749\n",
      "Entropy guru power is 7.29 (best : 9.70)\n",
      "Maximum sum of rank is 10\n",
      "Sum of rank is 71372 (only for confluent rules)\n",
      "Avg rank is 1.25 (only for confluent rules)\n"
     ]
    },
    {
     "data": {
      "image/png": "[encoded data removed]",
      "text/plain": [
       "<Figure size 1080x360 with 1 Axes>"
      ]
     },
     "metadata": {
      "needs_background": "light"
     },
     "output_type": "display_data"
    },
    {
     "name": "stdout",
     "output_type": "stream",
     "text": [
      "Unpopularity is 10778 (only for confluent rules)\n"
     ]
    }
   ],
   "source": [
    "e.attribute_gurus(rd.rules.minsum)\n",
    "print_results(e)"
   ]
  },
  {
   "cell_type": "code",
   "execution_count": 64,
   "metadata": {
    "ExecuteTime": {
     "end_time": "2021-06-11T14:37:27.600810Z",
     "start_time": "2021-06-11T14:08:07.693172Z"
    }
   },
   "outputs": [
    {
     "name": "stdout",
     "output_type": "stream",
     "text": [
      "Winner is 2\n",
      "Results :  [[34864, 1], [38718, 2]]\n",
      "Maximum rank is 5\n",
      "Maximum length is 17\n",
      "Average length is 3.33\n",
      "Maximum guru power is 2316\n",
      "Entropy guru power is 6.92 (best : 9.70)\n",
      "Maximum sum of rank is 19\n",
      "Sum of rank is 66253 (only for confluent rules)\n",
      "Avg rank is 1.16 (only for confluent rules)\n"
     ]
    },
    {
     "data": {
      "image/png": "[encoded data removed]",
      "text/plain": [
       "<Figure size 1080x360 with 1 Axes>"
      ]
     },
     "metadata": {
      "needs_background": "light"
     },
     "output_type": "display_data"
    },
    {
     "name": "stdout",
     "output_type": "stream",
     "text": [
      "Unpopularity is 8215 (only for confluent rules)\n"
     ]
    }
   ],
   "source": [
    "e.attribute_gurus(rd.rules.diffusion)\n",
    "print_results(e)"
   ]
  },
  {
   "cell_type": "code",
   "execution_count": 65,
   "metadata": {
    "ExecuteTime": {
     "end_time": "2021-06-11T14:58:21.489999Z",
     "start_time": "2021-06-11T14:37:27.621622Z"
    }
   },
   "outputs": [
    {
     "name": "stdout",
     "output_type": "stream",
     "text": [
      "Winner is 1\n",
      "Results :  [[37212, 1], [36370, 2]]\n",
      "Maximum rank is 5\n",
      "Maximum length is 16\n",
      "Average length is 3.04\n",
      "Maximum guru power is 2810\n",
      "Entropy guru power is 6.94 (best : 9.70)\n",
      "Maximum sum of rank is 17\n",
      "Sum of rank is 63092 (only for confluent rules)\n",
      "Avg rank is 1.10 (only for confluent rules)\n"
     ]
    },
    {
     "data": {
      "image/png": "[encoded data removed]",
      "text/plain": [
       "<Figure size 1080x360 with 1 Axes>"
      ]
     },
     "metadata": {
      "needs_background": "light"
     },
     "output_type": "display_data"
    },
    {
     "name": "stdout",
     "output_type": "stream",
     "text": [
      "Unpopularity is 5054 (only for confluent rules)\n"
     ]
    }
   ],
   "source": [
    "e.attribute_gurus(rd.rules.lexrank)\n",
    "print_results(e)"
   ]
  },
  {
   "cell_type": "code",
   "execution_count": 66,
   "metadata": {
    "ExecuteTime": {
     "end_time": "2021-06-11T16:31:11.060119Z",
     "start_time": "2021-06-11T15:52:02.515157Z"
    }
   },
   "outputs": [
    {
     "name": "stdout",
     "output_type": "stream",
     "text": [
      "Winner is 2\n",
      "Results :  [[34030, 1], [39552, 2]]\n",
      "Maximum rank is 5\n",
      "Maximum length is 31\n",
      "Average length is 6.24\n",
      "Maximum guru power is 12517\n",
      "Entropy guru power is 6.11 (best : 9.70)\n",
      "Maximum sum of rank is 33\n",
      "Sum of rank is 58040 (only for confluent rules)\n",
      "Avg rank is 1.01 (only for confluent rules)\n"
     ]
    },
    {
     "data": {
      "image/png": "[encoded data removed]",
      "text/plain": [
       "<Figure size 1080x360 with 1 Axes>"
      ]
     },
     "metadata": {
      "needs_background": "light"
     },
     "output_type": "display_data"
    },
    {
     "name": "stdout",
     "output_type": "stream",
     "text": [
      "Unpopularity is 2 (only for confluent rules)\n"
     ]
    }
   ],
   "source": [
    "e.attribute_gurus(rd.rules.minSumRank)\n",
    "print_results(e)"
   ]
  },
  {
   "cell_type": "markdown",
   "metadata": {},
   "source": [
    "# Save one election"
   ]
  },
  {
   "cell_type": "code",
   "execution_count": null,
   "metadata": {
    "ExecuteTime": {
     "start_time": "2021-06-21T09:28:05.891Z"
    },
    "scrolled": true
   },
   "outputs": [
    {
     "name": "stderr",
     "output_type": "stream",
     "text": [
      "100%|██████████| 834797/834797 [00:02<00:00, 383339.47it/s]\n",
      " 15%|█▍        | 123340/834797 [00:00<00:00, 1225152.29it/s]"
     ]
    },
    {
     "name": "stdout",
     "output_type": "stream",
     "text": [
      "14260\n"
     ]
    },
    {
     "name": "stderr",
     "output_type": "stream",
     "text": [
      "100%|██████████| 834797/834797 [00:00<00:00, 1573375.24it/s]\n",
      "100%|██████████| 465018/465018 [00:23<00:00, 19971.64it/s]\n",
      "100%|██████████| 465018/465018 [00:01<00:00, 293011.05it/s]\n",
      "6it [3:10:30, 1905.05s/it]\n",
      "100%|██████████| 465018/465018 [00:01<00:00, 271137.96it/s]\n",
      "100%|██████████| 834797/834797 [00:02<00:00, 363643.13it/s]\n",
      " 16%|█▌        | 135415/834797 [00:00<00:00, 1343783.69it/s]"
     ]
    },
    {
     "name": "stdout",
     "output_type": "stream",
     "text": [
      "20767\n"
     ]
    },
    {
     "name": "stderr",
     "output_type": "stream",
     "text": [
      "100%|██████████| 834797/834797 [00:00<00:00, 1612766.74it/s]\n",
      "100%|██████████| 465018/465018 [00:22<00:00, 20793.92it/s]\n",
      "100%|██████████| 465018/465018 [00:01<00:00, 341698.89it/s]\n",
      "3it [1:21:35, 1577.76s/it]"
     ]
    }
   ],
   "source": [
    "def run_election(index):\n",
    "    data= load_data(index)\n",
    "\n",
    "    rules = [rd.rules.naive_BFD, rd.rules.minsum, rd.rules.naive_DFD, \n",
    "             rd.rules.diffusion, rd.rules.lexrank, rd.rules.minSumRank]\n",
    "\n",
    "    rules_str = [\"BFD\", \"MinSumPath\", \"DFD\",\"Diffusion\", \"LexRank\",\"MinArb\"]\n",
    "    \n",
    "    metrics_str = [\"Max Rank\", \"Max Length\", \"Avg Length\",\"Max Power\", \"Max representation\",\n",
    "                \"Power entropy\", \"Max Sum\", \"Sum of Rank\", \"Avg Rank\", \"Unpopularity\"]\n",
    "\n",
    "    seed = np.random.randint(100000)\n",
    "    print(seed)\n",
    "    np.random.seed(seed)\n",
    "    n_rules = len(rules)\n",
    "    tab_results = np.zeros((10, n_rules))\n",
    "    e = create_election(data)\n",
    "\n",
    "    for i, rule in tqdm(enumerate(rules)):\n",
    "        e.attribute_gurus(rule)\n",
    "        tab_results[0, i] += e.max_rank\n",
    "        tab_results[1, i] += e.max_length\n",
    "        tab_results[2, i] += e.mean_length\n",
    "        tab_results[3, i] += e.max_power\n",
    "        tab_results[4, i] += e.max_representation\n",
    "        tab_results[5, i] += e.power_entropy\n",
    "        tab_results[6, i] += e.max_sum\n",
    "        tab_results[7, i] += e.sum_rank\n",
    "        tab_results[8, i] += e.avg_rank\n",
    "        tab_results[9, i] += e.unpopularity\n",
    "\n",
    "    df = pd.DataFrame(tab_results.T, index=rules_str, columns=metrics_str)\n",
    "    save_election(e, df, list_datasets[index][\"name\"])\n",
    "\n",
    "for _ in range(2):\n",
    "    run_election(3)"
   ]
  },
  {
   "cell_type": "markdown",
   "metadata": {
    "heading_collapsed": true
   },
   "source": [
    "# Average on 10 elections (without LP)"
   ]
  },
  {
   "cell_type": "code",
   "execution_count": 118,
   "metadata": {
    "ExecuteTime": {
     "end_time": "2021-06-11T19:45:44.098882Z",
     "start_time": "2021-06-11T19:27:25.169091Z"
    },
    "hidden": true
   },
   "outputs": [
    {
     "name": "stderr",
     "output_type": "stream",
     "text": [
      "100%|██████████| 10/10 [18:18<00:00, 109.89s/it]\n"
     ]
    }
   ],
   "source": [
    "rules = [rd.rules.naive_BFD, rd.rules.minsum, rd.rules.naive_DFD, \n",
    "         rd.rules.diffusion, rd.rules.lexrank]\n",
    "n_rules = len(rules)\n",
    "tab_results = np.zeros((8, n_rules))\n",
    "n_iter = 10\n",
    "\n",
    "for _ in tqdm(range(n_iter)):\n",
    "    with io.capture_output() as captured:\n",
    "        e = create_election(nb_nodes, list_edges, count_in)\n",
    "        \n",
    "    for i, rule in enumerate(rules):\n",
    "        e.attribute_gurus(rule)\n",
    "        tab_results[0, i] += e.max_rank\n",
    "        tab_results[1, i] += e.max_length\n",
    "        tab_results[2, i] += e.mean_length\n",
    "        tab_results[3, i] += e.max_power\n",
    "        tab_results[4, i] += e.power_entropy\n",
    "        tab_results[5, i] += e.max_sum\n",
    "        tab_results[6, i] += e.sum_rank\n",
    "        tab_results[7, i] += e.avg_rank\n",
    "        \n",
    "tab_results /= n_iter"
   ]
  },
  {
   "cell_type": "code",
   "execution_count": 119,
   "metadata": {
    "ExecuteTime": {
     "end_time": "2021-06-11T19:45:44.154783Z",
     "start_time": "2021-06-11T19:45:44.102872Z"
    },
    "hidden": true
   },
   "outputs": [
    {
     "data": {
      "text/html": [
       "<div>\n",
       "<style scoped>\n",
       "    .dataframe tbody tr th:only-of-type {\n",
       "        vertical-align: middle;\n",
       "    }\n",
       "\n",
       "    .dataframe tbody tr th {\n",
       "        vertical-align: top;\n",
       "    }\n",
       "\n",
       "    .dataframe thead th {\n",
       "        text-align: right;\n",
       "    }\n",
       "</style>\n",
       "<table border=\"1\" class=\"dataframe\">\n",
       "  <thead>\n",
       "    <tr style=\"text-align: right;\">\n",
       "      <th></th>\n",
       "      <th>Max Rank</th>\n",
       "      <th>Max Length</th>\n",
       "      <th>Avg Length</th>\n",
       "      <th>Max Power</th>\n",
       "      <th>Power entropy</th>\n",
       "      <th>Max Sum</th>\n",
       "      <th>Sum of Rank</th>\n",
       "      <th>Avg Rank</th>\n",
       "    </tr>\n",
       "  </thead>\n",
       "  <tbody>\n",
       "    <tr>\n",
       "      <th>BFD</th>\n",
       "      <td>35.4</td>\n",
       "      <td>4.1</td>\n",
       "      <td>1.734675</td>\n",
       "      <td>1721.4</td>\n",
       "      <td>8.748406</td>\n",
       "      <td>36.7</td>\n",
       "      <td>201210.2</td>\n",
       "      <td>1.161552</td>\n",
       "    </tr>\n",
       "    <tr>\n",
       "      <th>MinSumPath</th>\n",
       "      <td>18.6</td>\n",
       "      <td>6.7</td>\n",
       "      <td>2.254558</td>\n",
       "      <td>4976.2</td>\n",
       "      <td>8.254202</td>\n",
       "      <td>19.9</td>\n",
       "      <td>187207.0</td>\n",
       "      <td>1.080721</td>\n",
       "    </tr>\n",
       "    <tr>\n",
       "      <th>DFD</th>\n",
       "      <td>18.5</td>\n",
       "      <td>10.9</td>\n",
       "      <td>3.020724</td>\n",
       "      <td>8701.2</td>\n",
       "      <td>7.910911</td>\n",
       "      <td>23.8</td>\n",
       "      <td>174701.2</td>\n",
       "      <td>1.008521</td>\n",
       "    </tr>\n",
       "    <tr>\n",
       "      <th>Diffusion</th>\n",
       "      <td>18.5</td>\n",
       "      <td>9.9</td>\n",
       "      <td>2.698995</td>\n",
       "      <td>7671.4</td>\n",
       "      <td>8.024499</td>\n",
       "      <td>20.9</td>\n",
       "      <td>185651.7</td>\n",
       "      <td>1.071746</td>\n",
       "    </tr>\n",
       "    <tr>\n",
       "      <th>LexRank</th>\n",
       "      <td>18.5</td>\n",
       "      <td>9.3</td>\n",
       "      <td>2.660234</td>\n",
       "      <td>7613.8</td>\n",
       "      <td>8.040930</td>\n",
       "      <td>20.9</td>\n",
       "      <td>183545.0</td>\n",
       "      <td>1.059586</td>\n",
       "    </tr>\n",
       "  </tbody>\n",
       "</table>\n",
       "</div>"
      ],
      "text/plain": [
       "            Max Rank  Max Length  Avg Length  Max Power  Power entropy  \\\n",
       "BFD             35.4         4.1    1.734675     1721.4       8.748406   \n",
       "MinSumPath      18.6         6.7    2.254558     4976.2       8.254202   \n",
       "DFD             18.5        10.9    3.020724     8701.2       7.910911   \n",
       "Diffusion       18.5         9.9    2.698995     7671.4       8.024499   \n",
       "LexRank         18.5         9.3    2.660234     7613.8       8.040930   \n",
       "\n",
       "            Max Sum  Sum of Rank  Avg Rank  \n",
       "BFD            36.7     201210.2  1.161552  \n",
       "MinSumPath     19.9     187207.0  1.080721  \n",
       "DFD            23.8     174701.2  1.008521  \n",
       "Diffusion      20.9     185651.7  1.071746  \n",
       "LexRank        20.9     183545.0  1.059586  "
      ]
     },
     "execution_count": 119,
     "metadata": {},
     "output_type": "execute_result"
    }
   ],
   "source": [
    "df = pd.DataFrame(data=tab_results.T, \n",
    "                  index=[\"BFD\", \"MinSumPath\", \"DFD\",\"Diffusion\", \"LexRank\"], \n",
    "                  columns=[ \"Max Rank\", \"Max Length\", \"Avg Length\",\"Max Power\", \"Power entropy\",\n",
    "                           \"Max Sum\", \"Sum of Rank\", \"Avg Rank\"])\n",
    "\n",
    "df"
   ]
  },
  {
   "cell_type": "code",
   "execution_count": null,
   "metadata": {
    "hidden": true
   },
   "outputs": [],
   "source": []
  }
 ],
 "metadata": {
  "kernelspec": {
   "display_name": "Python 3",
   "language": "python",
   "name": "python3"
  },
  "language_info": {
   "codemirror_mode": {
    "name": "ipython",
    "version": 3
   },
   "file_extension": ".py",
   "mimetype": "text/x-python",
   "name": "python",
   "nbconvert_exporter": "python",
   "pygments_lexer": "ipython3",
   "version": "3.7.3"
  }
 },
 "nbformat": 4,
 "nbformat_minor": 2
}
