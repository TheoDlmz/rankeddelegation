{
 "cells": [
  {
   "cell_type": "code",
   "execution_count": 1,
   "metadata": {
    "ExecuteTime": {
     "end_time": "2021-06-16T07:59:52.326971Z",
     "start_time": "2021-06-16T07:59:50.611369Z"
    }
   },
   "outputs": [],
   "source": [
    "import rankedDelegation as rd\n",
    "import numpy as np\n",
    "from tqdm import tqdm\n",
    "import pandas as pd\n",
    "import matplotlib.pyplot as plt\n",
    "import pulp\n",
    "import time\n",
    "from IPython.utils import io\n",
    "np.random.seed(42)"
   ]
  },
  {
   "cell_type": "markdown",
   "metadata": {},
   "source": [
    "# Load the data"
   ]
  },
  {
   "cell_type": "code",
   "execution_count": 2,
   "metadata": {
    "ExecuteTime": {
     "end_time": "2021-06-16T07:59:53.094737Z",
     "start_time": "2021-06-16T07:59:53.086760Z"
    }
   },
   "outputs": [],
   "source": [
    "path = \"C:\\\\Users\\\\Theo Delemazure\\\\Documents\\\\ENS\\\\Stage Berlin\\\\data\\\\\"\n",
    "list_datasets = [{\"path\":\"bitcoin\\\\out.soc-sign-bitcoinalpha\",\"name\":\"Bitcoin Alpha\"}, \n",
    "                {\"path\":\"bitcoin\\\\out.soc-sign-bitcoinotc\",\"name\":\"Bitcoin OTC\"}]\n",
    "def load_data(index):\n",
    "    full_path = path + list_datasets[index][\"path\"]\n",
    "    list_edges = np.genfromtxt(full_path, delimiter=\"\\t\",dtype=int)[:,:3]\n",
    "    nb_nodes= int(np.max(list_edges))+1\n",
    "    list_nodes = np.arange(nb_nodes)\n",
    "    count_out = np.zeros(nb_nodes)\n",
    "    count_in = np.zeros(nb_nodes)\n",
    "\n",
    "    for (a, b, _) in tqdm(list_edges):\n",
    "        if a != b:\n",
    "            count_out[a] += 1\n",
    "            count_in[b] += 1\n",
    "    \n",
    "    return {\"edges\":list_edges,\"out\": count_out, \"in\": count_in, \"nb_nodes\": nb_nodes}"
   ]
  },
  {
   "cell_type": "code",
   "execution_count": 3,
   "metadata": {
    "ExecuteTime": {
     "end_time": "2021-06-16T07:59:53.278261Z",
     "start_time": "2021-06-16T07:59:53.262289Z"
    }
   },
   "outputs": [],
   "source": [
    "def create_election(data, p=0.8):\n",
    "    n = data[\"nb_nodes\"]\n",
    "    list_edges = data[\"edges\"]\n",
    "    \n",
    "    e = rd.Election()\n",
    "    outedges_dict = {}\n",
    "    for (a, b, score) in tqdm(list_edges):\n",
    "        if score <= 0:\n",
    "            continue\n",
    "        if a not in outedges_dict:\n",
    "            outedges_dict[a] = [[] for i in range(11)]\n",
    "        outedges_dict[a][score].append(b)\n",
    "    \n",
    "    # Add casting voters\n",
    "    for i in tqdm(range(n)):\n",
    "        x = np.random.choice([0,1,2],p=[p,(1-p)/2,(1-p)/2])\n",
    "        if x == 0:\n",
    "            v = rd.Voter()\n",
    "        else:\n",
    "            v = rd.Voter(vote=x)\n",
    "        e.add_voter(v)\n",
    "\n",
    "    # Add edges\n",
    "    L = e.list_voters\n",
    "    delegatees_list = [[] for i in range(n)]\n",
    "    n_edges = 0\n",
    "    \n",
    "    for r_1 in tqdm(range(n)):\n",
    "        if L[r_1].vote is not None or r_1 not in outedges_dict:\n",
    "            continue\n",
    "            \n",
    "        ordering = []\n",
    "        for i in range(10, 0, -1):\n",
    "            tab = outedges_dict[r_1][i]\n",
    "            np.random.shuffle(tab)\n",
    "            for x in tab:\n",
    "                ordering.append(x)\n",
    "        \n",
    "        for ind in ordering:\n",
    "            delegatees_list[r_1].append(L[ind])\n",
    "            \n",
    "    for voter in L:\n",
    "        voter.delegate(delegatees_list[voter.id])\n",
    "    \n",
    "    return e\n"
   ]
  },
  {
   "cell_type": "code",
   "execution_count": 4,
   "metadata": {
    "ExecuteTime": {
     "end_time": "2021-06-16T07:59:53.770581Z",
     "start_time": "2021-06-16T07:59:53.764600Z"
    }
   },
   "outputs": [],
   "source": [
    "def save_election(e, results, title=\"\"):\n",
    "    L = []\n",
    "    C = []\n",
    "    timestamp = int(time.time())\n",
    "    for v in tqdm(e.list_voters):\n",
    "        for i, d in enumerate(v.delegatees):\n",
    "            L.append((v.id, d.id, i+1))\n",
    "        if v.vote is not None:\n",
    "            C.append((v.id, 1))\n",
    "        else:\n",
    "            C.append((v.id, 0))\n",
    "        \n",
    "    np.savetxt(\"Save/edges_%s_%i.csv\"%(title,timestamp), L)\n",
    "    np.savetxt(\"Save/nodes_%s_%i.csv\"%(title,timestamp), C)\n",
    "    results.to_csv(\"Save/results_%s_%i.csv\"%(title, timestamp))"
   ]
  },
  {
   "cell_type": "code",
   "execution_count": 5,
   "metadata": {
    "ExecuteTime": {
     "end_time": "2021-06-16T07:59:53.983746Z",
     "start_time": "2021-06-16T07:59:53.970799Z"
    }
   },
   "outputs": [],
   "source": [
    "def print_results(e):\n",
    "    print(\"Winner is %i\"%e.winner)\n",
    "    print(\"Results : \",e.results)\n",
    "    c_gurus = 0\n",
    "    for v in e.list_voters:\n",
    "        if v.vote is not None:\n",
    "            c_gurus += 1\n",
    "    s = np.log(c_gurus)\n",
    "    \n",
    "    print(\"Maximum rank is %i\"%e.max_rank)\n",
    "    print(\"Maximum length is %i\"%e.max_length)\n",
    "    print(\"Average length is %.2f\"%e.mean_length)\n",
    "    print(\"Maximum guru power is %i\"%e.max_power)\n",
    "    print(\"Entropy guru power is %.2f (best : %.2f)\"%(e.power_entropy, s))\n",
    "    print(\"Maximum sum of rank is %i\"%e.max_sum)\n",
    "    print(\"Sum of rank is %i (only for confluent rules)\"%e.sum_rank)\n",
    "    print(\"Avg rank is %.2f (only for confluent rules)\"%e.avg_rank)\n",
    "    plt.figure(figsize=(15,5))\n",
    "    plt.hist(e.list_powers,bins=1000)\n",
    "    plt.xlim(1,10000)\n",
    "    plt.xscale(\"log\")\n",
    "    plt.yscale(\"log\")\n",
    "    plt.title(\"Guru distribution of power\")\n",
    "    plt.xlabel(\"Power\")\n",
    "    plt.ylabel(\"Number of nodes\")\n",
    "    plt.show()\n",
    "    #print(\"Unpopularity is %i (only for confluent rules)\"%e.unpopularity)"
   ]
  },
  {
   "cell_type": "markdown",
   "metadata": {},
   "source": [
    "# Try rules"
   ]
  },
  {
   "cell_type": "code",
   "execution_count": 8,
   "metadata": {
    "ExecuteTime": {
     "end_time": "2021-06-16T08:51:14.652736Z",
     "start_time": "2021-06-16T08:35:58.605487Z"
    }
   },
   "outputs": [
    {
     "name": "stderr",
     "output_type": "stream",
     "text": [
      "100%|██████████| 24186/24186 [00:00<00:00, 391138.89it/s]\n",
      "100%|██████████| 24186/24186 [00:00<00:00, 272392.07it/s]\n",
      "  0%|          | 0/3784 [00:00<?, ?it/s]"
     ]
    },
    {
     "name": "stdout",
     "output_type": "stream",
     "text": [
      "73893\n"
     ]
    },
    {
     "name": "stderr",
     "output_type": "stream",
     "text": [
      "100%|██████████| 3784/3784 [00:00<00:00, 24961.27it/s]\n",
      "100%|██████████| 3784/3784 [00:00<00:00, 84312.10it/s]\n",
      "6it [01:14, 12.47s/it]\n",
      "100%|██████████| 3784/3784 [00:00<00:00, 472414.76it/s]\n",
      "100%|██████████| 24186/24186 [00:00<00:00, 425466.02it/s]\n",
      "100%|██████████| 24186/24186 [00:00<00:00, 504884.62it/s]\n",
      " 44%|████▍     | 1674/3784 [00:00<00:00, 16624.48it/s]"
     ]
    },
    {
     "name": "stdout",
     "output_type": "stream",
     "text": [
      "45581\n"
     ]
    },
    {
     "name": "stderr",
     "output_type": "stream",
     "text": [
      "100%|██████████| 3784/3784 [00:00<00:00, 23277.19it/s]\n",
      "100%|██████████| 3784/3784 [00:00<00:00, 108526.54it/s]\n",
      "6it [01:11, 11.94s/it]\n",
      "100%|██████████| 3784/3784 [00:00<00:00, 472766.56it/s]\n",
      "100%|██████████| 24186/24186 [00:00<00:00, 391143.42it/s]\n",
      "100%|██████████| 24186/24186 [00:00<00:00, 252611.41it/s]\n",
      "  0%|          | 0/3784 [00:00<?, ?it/s]"
     ]
    },
    {
     "name": "stdout",
     "output_type": "stream",
     "text": [
      "74592\n"
     ]
    },
    {
     "name": "stderr",
     "output_type": "stream",
     "text": [
      "100%|██████████| 3784/3784 [00:00<00:00, 27496.68it/s]\n",
      "100%|██████████| 3784/3784 [00:00<00:00, 122390.60it/s]\n",
      "6it [01:43, 17.32s/it]\n",
      "100%|██████████| 3784/3784 [00:00<00:00, 474334.92it/s]\n",
      "100%|██████████| 24186/24186 [00:00<00:00, 310923.44it/s]\n",
      "100%|██████████| 24186/24186 [00:00<00:00, 260759.93it/s]\n",
      "  0%|          | 0/3784 [00:00<?, ?it/s]"
     ]
    },
    {
     "name": "stdout",
     "output_type": "stream",
     "text": [
      "68423\n"
     ]
    },
    {
     "name": "stderr",
     "output_type": "stream",
     "text": [
      "100%|██████████| 3784/3784 [00:00<00:00, 21557.40it/s]\n",
      "100%|██████████| 3784/3784 [00:00<00:00, 77437.33it/s]\n",
      "6it [01:51, 18.51s/it]\n",
      "100%|██████████| 3784/3784 [00:00<00:00, 421748.68it/s]\n",
      "100%|██████████| 24186/24186 [00:00<00:00, 432760.70it/s]\n",
      "100%|██████████| 24186/24186 [00:00<00:00, 314791.46it/s]\n",
      "  0%|          | 0/3784 [00:00<?, ?it/s]"
     ]
    },
    {
     "name": "stdout",
     "output_type": "stream",
     "text": [
      "45926\n"
     ]
    },
    {
     "name": "stderr",
     "output_type": "stream",
     "text": [
      "100%|██████████| 3784/3784 [00:00<00:00, 38715.93it/s]\n",
      "100%|██████████| 3784/3784 [00:00<00:00, 118428.00it/s]\n",
      "6it [01:33, 15.52s/it]\n",
      "100%|██████████| 3784/3784 [00:00<00:00, 421625.44it/s]\n",
      "100%|██████████| 24186/24186 [00:00<00:00, 319078.77it/s]\n",
      "100%|██████████| 24186/24186 [00:00<00:00, 292047.94it/s]\n",
      " 83%|████████▎ | 3145/3784 [00:00<00:00, 31222.24it/s]"
     ]
    },
    {
     "name": "stdout",
     "output_type": "stream",
     "text": [
      "23144\n"
     ]
    },
    {
     "name": "stderr",
     "output_type": "stream",
     "text": [
      "100%|██████████| 3784/3784 [00:00<00:00, 30844.85it/s]\n",
      "100%|██████████| 3784/3784 [00:00<00:00, 66565.08it/s]\n",
      "6it [01:06, 11.15s/it]\n",
      "100%|██████████| 3784/3784 [00:00<00:00, 474292.39it/s]\n",
      "100%|██████████| 24186/24186 [00:00<00:00, 410993.36it/s]\n",
      "100%|██████████| 24186/24186 [00:00<00:00, 251438.68it/s]\n",
      "  0%|          | 0/3784 [00:00<?, ?it/s]"
     ]
    },
    {
     "name": "stdout",
     "output_type": "stream",
     "text": [
      "42036\n"
     ]
    },
    {
     "name": "stderr",
     "output_type": "stream",
     "text": [
      "100%|██████████| 3784/3784 [00:00<00:00, 21068.01it/s]\n",
      "100%|██████████| 3784/3784 [00:00<00:00, 77528.88it/s]\n",
      "6it [01:35, 15.94s/it]\n",
      "100%|██████████| 3784/3784 [00:00<00:00, 420052.04it/s]\n",
      "100%|██████████| 24186/24186 [00:00<00:00, 285303.69it/s]\n",
      "100%|██████████| 24186/24186 [00:00<00:00, 266492.15it/s]\n",
      " 69%|██████▉   | 2605/3784 [00:00<00:00, 25860.74it/s]"
     ]
    },
    {
     "name": "stdout",
     "output_type": "stream",
     "text": [
      "41874\n"
     ]
    },
    {
     "name": "stderr",
     "output_type": "stream",
     "text": [
      "100%|██████████| 3784/3784 [00:00<00:00, 25294.03it/s]\n",
      "100%|██████████| 3784/3784 [00:00<00:00, 81462.86it/s]\n",
      "6it [01:46, 17.70s/it]\n",
      "100%|██████████| 3784/3784 [00:00<00:00, 471909.08it/s]\n",
      "100%|██████████| 24186/24186 [00:00<00:00, 418114.82it/s]\n",
      "100%|██████████| 24186/24186 [00:00<00:00, 526759.98it/s]\n",
      " 69%|██████▉   | 2626/3784 [00:00<00:00, 26078.04it/s]"
     ]
    },
    {
     "name": "stdout",
     "output_type": "stream",
     "text": [
      "12405\n"
     ]
    },
    {
     "name": "stderr",
     "output_type": "stream",
     "text": [
      "100%|██████████| 3784/3784 [00:00<00:00, 28969.90it/s]\n",
      "100%|██████████| 3784/3784 [00:00<00:00, 119777.57it/s]\n",
      "6it [01:15, 12.51s/it]\n",
      "100%|██████████| 3784/3784 [00:00<00:00, 316229.58it/s]\n",
      "100%|██████████| 24186/24186 [00:00<00:00, 332190.82it/s]\n",
      "100%|██████████| 24186/24186 [00:00<00:00, 418169.98it/s]\n",
      "100%|██████████| 3784/3784 [00:00<00:00, 23565.99it/s]"
     ]
    },
    {
     "name": "stdout",
     "output_type": "stream",
     "text": [
      "78304\n"
     ]
    },
    {
     "name": "stderr",
     "output_type": "stream",
     "text": [
      "\n",
      "100%|██████████| 3784/3784 [00:00<00:00, 79046.37it/s]\n",
      "6it [01:51, 18.55s/it]\n",
      "100%|██████████| 3784/3784 [00:00<00:00, 421591.84it/s]\n"
     ]
    }
   ],
   "source": [
    "def run_election(index):\n",
    "    data= load_data(index)\n",
    "\n",
    "    rules = [rd.rules.naive_BFD, rd.rules.minsum, rd.rules.naive_DFD, \n",
    "             rd.rules.diffusion, rd.rules.lexrank, rd.rules.minSumRank]\n",
    "\n",
    "    rules_str = [\"BFD\", \"MinSumPath\", \"DFD\",\"Diffusion\", \"LexRank\",\"MinArb\"]\n",
    "\n",
    "    metrics_str = [\"Max Rank\", \"Max Length\", \"Avg Length\",\"Max Power\", \"Max representation\",\n",
    "                \"Power entropy\", \"Max Sum\", \"Sum of Rank\", \"Avg Rank\", \"Unpopularity\"]\n",
    "\n",
    "    seed = np.random.randint(100000)\n",
    "    print(seed)\n",
    "    np.random.seed(seed)\n",
    "    n_rules = len(rules)\n",
    "    tab_results = np.zeros((10, n_rules))\n",
    "    e = create_election(data)\n",
    "\n",
    "    for i, rule in tqdm(enumerate(rules)):\n",
    "        e.attribute_gurus(rule)\n",
    "        tab_results[0, i] += e.max_rank\n",
    "        tab_results[1, i] += e.max_length\n",
    "        tab_results[2, i] += e.mean_length\n",
    "        tab_results[3, i] += e.max_power\n",
    "        tab_results[4, i] += e.max_representation\n",
    "        tab_results[5, i] += e.power_entropy\n",
    "        tab_results[6, i] += e.max_sum\n",
    "        tab_results[7, i] += e.sum_rank\n",
    "        tab_results[8, i] += e.avg_rank\n",
    "        tab_results[9, i] += e.unpopularity\n",
    "\n",
    "    df = pd.DataFrame(tab_results.T, index=rules_str, columns=metrics_str)\n",
    "    save_election(e, df, list_datasets[index][\"name\"])\n",
    "\n",
    "for _ in range(10):\n",
    "    run_election(0)"
   ]
  },
  {
   "cell_type": "markdown",
   "metadata": {},
   "source": [
    "# Distribution des trust"
   ]
  },
  {
   "cell_type": "code",
   "execution_count": 58,
   "metadata": {
    "ExecuteTime": {
     "end_time": "2021-06-15T16:15:15.876552Z",
     "start_time": "2021-06-15T16:15:11.971707Z"
    }
   },
   "outputs": [
    {
     "name": "stderr",
     "output_type": "stream",
     "text": [
      "100%|██████████| 35592/35592 [00:00<00:00, 336542.83it/s]\n"
     ]
    },
    {
     "data": {
      "image/png": "[encoded data removed]",
      "text/plain": [
       "<Figure size 432x288 with 1 Axes>"
      ]
     },
     "metadata": {
      "needs_background": "light"
     },
     "output_type": "display_data"
    },
    {
     "data": {
      "image/png": "[encoded data removed]",
      "text/plain": [
       "<Figure size 432x288 with 1 Axes>"
      ]
     },
     "metadata": {
      "needs_background": "light"
     },
     "output_type": "display_data"
    },
    {
     "data": {
      "image/png": "[encoded data removed]",
      "text/plain": [
       "<Figure size 432x288 with 1 Axes>"
      ]
     },
     "metadata": {
      "needs_background": "light"
     },
     "output_type": "display_data"
    }
   ],
   "source": [
    "index = 1\n",
    "data =load_data(index)\n",
    "scores = data[\"edges\"][:,2]\n",
    "tab_scores = np.zeros(21)\n",
    "for s in scores:\n",
    "    tab_scores[10+s] += 1\n",
    "\n",
    "plt.bar(np.arange(-10,11),tab_scores)\n",
    "plt.yscale(\"log\")\n",
    "plt.title(\"Distribution des valeurs de confiance\")\n",
    "plt.ylabel(\"nb\")\n",
    "plt.xlabel(\"confiance\")\n",
    "plt.show()\n",
    "\n",
    "plt.hist(data[\"out\"],bins=int(np.max(data[\"out\"])))\n",
    "plt.xscale(\"log\")\n",
    "plt.yscale(\"log\")\n",
    "plt.show()\n",
    "\n",
    "plt.hist(data[\"in\"],bins=int(np.max(data[\"out\"])))\n",
    "plt.xscale(\"log\")\n",
    "plt.yscale(\"log\")\n",
    "plt.show()\n"
   ]
  },
  {
   "cell_type": "code",
   "execution_count": null,
   "metadata": {},
   "outputs": [],
   "source": []
  }
 ],
 "metadata": {
  "kernelspec": {
   "display_name": "Python 3",
   "language": "python",
   "name": "python3"
  },
  "language_info": {
   "codemirror_mode": {
    "name": "ipython",
    "version": 3
   },
   "file_extension": ".py",
   "mimetype": "text/x-python",
   "name": "python",
   "nbconvert_exporter": "python",
   "pygments_lexer": "ipython3",
   "version": "3.7.3"
  }
 },
 "nbformat": 4,
 "nbformat_minor": 2
}
