{
 "cells": [
  {
   "cell_type": "code",
   "execution_count": 7,
   "metadata": {
    "ExecuteTime": {
     "end_time": "2021-04-14T13:07:02.293570Z",
     "start_time": "2021-04-14T13:07:02.287397Z"
    }
   },
   "outputs": [],
   "source": [
    "import rankedDelegation as rd\n",
    "import numpy as np\n",
    "np.random.seed(42)"
   ]
  },
  {
   "cell_type": "markdown",
   "metadata": {
    "heading_collapsed": true
   },
   "source": [
    "# Create the election"
   ]
  },
  {
   "cell_type": "markdown",
   "metadata": {
    "hidden": true
   },
   "source": [
    "Let's generate data for our election. In this notebook, an election is $1000$ voters, $10%$ of them vote for $1$, $10%$ of them vote for $2$, and the others are delegating voters or abstaining voters.\n",
    "\n",
    "Then I randomly add $3200$ edges in the delegating graph, which gives around $4$ delegatees per delegating voter in average."
   ]
  },
  {
   "cell_type": "code",
   "execution_count": 8,
   "metadata": {
    "ExecuteTime": {
     "end_time": "2021-04-14T13:07:02.810618Z",
     "start_time": "2021-04-14T13:07:02.636149Z"
    },
    "hidden": true
   },
   "outputs": [],
   "source": [
    "e = rd.Election()\n",
    "n=1000\n",
    "for i in range(n):\n",
    "    x = np.random.choice([0,1,2],p=[0.8,0.1,0.1])\n",
    "    if x == 0:\n",
    "        v = rd.Voter()\n",
    "    else:\n",
    "        v = rd.Voter(vote=x)\n",
    "    e.add_voter(v)\n",
    "\n",
    "L = e.list_voters\n",
    "delegatees = [[] for i in range(n)]\n",
    "n_edges = 0\n",
    "while n_edges < 3200:\n",
    "    r_1 = np.random.randint(n)\n",
    "    r_2 = np.random.randint(n)\n",
    "    if r_1 == r_2 or L[r_2] in delegatees[r_1] or L[r_1].vote is not None:\n",
    "        continue\n",
    "    else:\n",
    "        delegatees[r_1].append(L[r_2])\n",
    "        n_edges += 1\n",
    "    \n",
    "for voter in L:\n",
    "    voter.delegate(delegatees[voter.id])\n"
   ]
  },
  {
   "cell_type": "markdown",
   "metadata": {
    "heading_collapsed": true
   },
   "source": [
    "# Using different rules"
   ]
  },
  {
   "cell_type": "markdown",
   "metadata": {
    "hidden": true
   },
   "source": [
    "This is a utility function to print the results"
   ]
  },
  {
   "cell_type": "code",
   "execution_count": 9,
   "metadata": {
    "ExecuteTime": {
     "end_time": "2021-04-14T13:07:03.350057Z",
     "start_time": "2021-04-14T13:07:03.341129Z"
    },
    "hidden": true
   },
   "outputs": [],
   "source": [
    "def print_results(e):\n",
    "    print(\"Winner is %i\"%e.winner)\n",
    "    print(\"Results : \",e.results)\n",
    "    print(\"Maximum rank is %i\"%e.max_rank)\n",
    "    print(\"Maximum length is %i\"%e.max_length)\n",
    "    print(\"Maximum guru power is %i\"%e.max_power)"
   ]
  },
  {
   "cell_type": "markdown",
   "metadata": {
    "hidden": true
   },
   "source": [
    "## BFD"
   ]
  },
  {
   "cell_type": "code",
   "execution_count": 10,
   "metadata": {
    "ExecuteTime": {
     "end_time": "2021-04-14T13:07:04.095143Z",
     "start_time": "2021-04-14T13:07:04.049078Z"
    },
    "hidden": true
   },
   "outputs": [
    {
     "name": "stdout",
     "output_type": "stream",
     "text": [
      "Winner is 1\n",
      "Results :  [[520, 1], [459, 2]]\n",
      "Maximum rank is 10\n",
      "Maximum length is 4\n",
      "Maximum guru power is 18\n"
     ]
    }
   ],
   "source": [
    "e.attribute_gurus(rd.rules.naive_BFD)\n",
    "print_results(e)"
   ]
  },
  {
   "cell_type": "markdown",
   "metadata": {
    "hidden": true
   },
   "source": [
    "## DFD"
   ]
  },
  {
   "cell_type": "code",
   "execution_count": 11,
   "metadata": {
    "ExecuteTime": {
     "end_time": "2021-04-14T13:07:04.790425Z",
     "start_time": "2021-04-14T13:07:04.757242Z"
    },
    "hidden": true
   },
   "outputs": [
    {
     "name": "stdout",
     "output_type": "stream",
     "text": [
      "Winner is 2\n",
      "Results :  [[408, 1], [571, 2]]\n",
      "Maximum rank is 2\n",
      "Maximum length is 20\n",
      "Maximum guru power is 95\n"
     ]
    }
   ],
   "source": [
    "e.attribute_gurus(rd.rules.naive_DFD)\n",
    "print_results(e)"
   ]
  },
  {
   "cell_type": "markdown",
   "metadata": {
    "hidden": true
   },
   "source": [
    "## Diffusion"
   ]
  },
  {
   "cell_type": "code",
   "execution_count": 12,
   "metadata": {
    "ExecuteTime": {
     "end_time": "2021-04-14T13:07:05.568170Z",
     "start_time": "2021-04-14T13:07:05.536455Z"
    },
    "hidden": true
   },
   "outputs": [
    {
     "name": "stdout",
     "output_type": "stream",
     "text": [
      "Winner is 2\n",
      "Results :  [[414, 1], [565, 2]]\n",
      "Maximum rank is 2\n",
      "Maximum length is 20\n",
      "Maximum guru power is 85\n"
     ]
    }
   ],
   "source": [
    "e.attribute_gurus(rd.rules.diffusion)\n",
    "print_results(e)"
   ]
  },
  {
   "cell_type": "markdown",
   "metadata": {
    "heading_collapsed": true
   },
   "source": [
    "# Comment"
   ]
  },
  {
   "cell_type": "markdown",
   "metadata": {
    "hidden": true
   },
   "source": [
    "As you can see, Diffusion has results very similar to DFD in terms of Maximum rank and Maximum length (at least in this example)"
   ]
  }
 ],
 "metadata": {
  "kernelspec": {
   "display_name": "Python 3",
   "language": "python",
   "name": "python3"
  },
  "language_info": {
   "codemirror_mode": {
    "name": "ipython",
    "version": 3
   },
   "file_extension": ".py",
   "mimetype": "text/x-python",
   "name": "python",
   "nbconvert_exporter": "python",
   "pygments_lexer": "ipython3",
   "version": "3.7.3"
  }
 },
 "nbformat": 4,
 "nbformat_minor": 2
}
